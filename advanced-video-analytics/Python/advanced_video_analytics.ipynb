{
 "cells": [
  {
   "cell_type": "markdown",
   "metadata": {},
   "source": [
    "<div style=\"font-size: 19px\">\n",
    "    \n",
    "## Advanced Video Analytics\n",
    "\n",
    "The tutorial shows some techniques for developing advanced video analytics applications.<br>\n",
    "\n",
    "### Part 1. Chaining models: Use mutiple models in an application\n",
    "\n",
    "The Intel® Distribution of OpenVINO™ toolkit package includes security barrier sample which uses 3 models to detect cars, their number plates, color and number plate attributes from the input video or image of the cars. The sample demo script is provided in the Intel® Distribution of OpenVINO™ toolkit package to run the sample.\n",
    "\n",
    "#### 1. Navigate to the security camera barrier sample build directory and setup the environment variables"
   ]
  },
  {
   "cell_type": "code",
   "execution_count": 1,
   "metadata": {},
   "outputs": [
    {
     "name": "stdout",
     "output_type": "stream",
     "text": [
      "[setupvars.sh] OpenVINO environment initialized\r\n"
     ]
    }
   ],
   "source": [
    "!/opt/intel/openvino/bin/setupvars.sh"
   ]
  },
  {
   "cell_type": "markdown",
   "metadata": {},
   "source": [
    "<div style=\"font-size: 19px\">\n",
    "    \n",
    "#### 2. Run the executable for the security barrier sample with the mobilenet-ssd* model used in the first tutorial"
   ]
  },
  {
   "cell_type": "code",
   "execution_count": 2,
   "metadata": {},
   "outputs": [
    {
     "name": "stdout",
     "output_type": "stream",
     "text": [
      "[ INFO ] Initializing plugin for CPU device...\n",
      "[ INFO ] Loading network files for Vehicle Detection\n",
      "[ INFO ] Checking Vehicle Detection network inputs\n",
      "[ INFO ] Checking Vehicle Detection network outputs\n",
      "[ INFO ] Loading IR to the plugin...\n",
      "[ INFO ] Starting inference ...\n",
      "[ INFO ] To stop the demo execution press Esc button\n",
      "[ INFO ] Execution successful\n"
     ]
    }
   ],
   "source": [
    "! python3 security_barrier_camera.py -i /opt/intel/openvino/deployment_tools/demo/car_1.bmp -m /opt/intel/workshop/smart-video-workshop/object-detection/mobilenet-ssd/FP32/mobilenet-ssd.xml -l $HOME/inference_engine_samples_build/intel64/Release/lib/libcpu_extension.so -d CPU"
   ]
  },
  {
   "cell_type": "markdown",
   "metadata": {},
   "source": [
    "<div style=\"font-size: 19px\">\n",
    "\n",
    "#### 3. Run the security camera sample with Intel optimized pre-trained models"
   ]
  },
  {
   "cell_type": "code",
   "execution_count": 3,
   "metadata": {},
   "outputs": [
    {
     "name": "stdout",
     "output_type": "stream",
     "text": [
      "[sudo] password for intel: Run sudo -E apt -y install build-essential python3-pip virtualenv cmake libcairo2-dev libpango1.0-dev libglib2.0-dev libgtk2.0-dev libswscale-dev libavcodec-dev libavformat-dev libgstreamer1.0-0 gstreamer1.0-plugins-base\n",
      "Get:1 http://security.ubuntu.com/ubuntu xenial-security InRelease [109 kB]\n",
      "Hit:2 http://in.archive.ubuntu.com/ubuntu xenial InRelease0m\n",
      "Get:3 http://in.archive.ubuntu.com/ubuntu xenial-updates InRelease [109 kB]    \u001b[0m\u001b[33m\n",
      "Get:4 http://security.ubuntu.com/ubuntu xenial-security/main amd64 Packages [638 kB]\n",
      "Get:5 http://in.archive.ubuntu.com/ubuntu xenial-backports InRelease [107 kB]  \u001b[0m\u001b[33m\u001b[33m\n",
      "Get:6 http://security.ubuntu.com/ubuntu xenial-security/main i386 Packages [530 kB]\u001b[33m\u001b[33m\n",
      "Get:7 http://security.ubuntu.com/ubuntu xenial-security/universe amd64 Packages [434 kB]\n",
      "Get:8 http://security.ubuntu.com/ubuntu xenial-security/universe i386 Packages [378 kB]\n",
      "Fetched 2,305 kB in 3s (660 kB/s) \u001b[0m                   \u001b[0m\u001b[33m\u001b[33m\u001b[33m\n",
      "Reading package lists... Done\n",
      "Building dependency tree       \n",
      "Reading state information... Done\n",
      "20 packages can be upgraded. Run 'apt list --upgradable' to see them.\n",
      "Reading package lists... Done\n",
      "Building dependency tree       \n",
      "Reading state information... Done\n",
      "build-essential is already the newest version (12.1ubuntu2).\n",
      "libcairo2-dev is already the newest version (1.14.6-1).\n",
      "libpango1.0-dev is already the newest version (1.38.1-1).\n",
      "cmake is already the newest version (3.5.1-1ubuntu3).\n",
      "gstreamer1.0-plugins-base is already the newest version (1.8.3-1ubuntu0.3).\n",
      "libglib2.0-dev is already the newest version (2.48.2-0ubuntu4.1).\n",
      "libgstreamer1.0-0 is already the newest version (1.8.3-1~ubuntu0.1).\n",
      "libgtk2.0-dev is already the newest version (2.24.30-1ubuntu1.16.04.2).\n",
      "libavcodec-dev is already the newest version (7:2.8.15-0ubuntu0.16.04.1).\n",
      "libavformat-dev is already the newest version (7:2.8.15-0ubuntu0.16.04.1).\n",
      "libswscale-dev is already the newest version (7:2.8.15-0ubuntu0.16.04.1).\n",
      "python3-pip is already the newest version (8.1.1-2ubuntu0.4).\n",
      "virtualenv is already the newest version (15.0.1+ds-3ubuntu1).\n",
      "The following packages were automatically installed and are no longer required:\n",
      "  linux-headers-4.15.0-29 linux-headers-4.15.0-29-generic\n",
      "  linux-headers-4.15.0-45 linux-headers-4.15.0-45-generic\n",
      "  linux-image-4.15.0-29-generic linux-image-4.15.0-45-generic\n",
      "  linux-modules-4.15.0-29-generic linux-modules-4.15.0-45-generic\n",
      "  linux-modules-extra-4.15.0-29-generic linux-modules-extra-4.15.0-45-generic\n",
      "  snapd-login-service\n",
      "Use 'sudo apt autoremove' to remove them.\n",
      "0 upgraded, 0 newly installed, 0 to remove and 20 not upgraded.\n",
      "Reading package lists... Done\n",
      "Building dependency tree       \n",
      "Reading state information... Done\n",
      "libpng12-dev is already the newest version (1.2.54-1ubuntu1.1).\n",
      "The following packages were automatically installed and are no longer required:\n",
      "  linux-headers-4.15.0-29 linux-headers-4.15.0-29-generic\n",
      "  linux-headers-4.15.0-45 linux-headers-4.15.0-45-generic\n",
      "  linux-image-4.15.0-29-generic linux-image-4.15.0-45-generic\n",
      "  linux-modules-4.15.0-29-generic linux-modules-4.15.0-45-generic\n",
      "  linux-modules-extra-4.15.0-29-generic linux-modules-extra-4.15.0-45-generic\n",
      "  snapd-login-service\n",
      "Use 'sudo apt autoremove' to remove them.\n",
      "0 upgraded, 0 newly installed, 0 to remove and 20 not upgraded.\n",
      "\u001b[33mThe directory '/home/intel/.cache/pip/http' or its parent directory is not owned by the current user and the cache has been disabled. Please check the permissions and owner of that directory. If executing pip with sudo, you may want sudo's -H flag.\u001b[0m\n",
      "\u001b[33mThe directory '/home/intel/.cache/pip' or its parent directory is not owned by the current user and caching wheels has been disabled. check the permissions and owner of that directory. If executing pip with sudo, you may want sudo's -H flag.\u001b[0m\n",
      "Requirement already satisfied (use --upgrade to upgrade): pyyaml in /home/intel/.local/lib/python3.5/site-packages\n",
      "Requirement already satisfied (use --upgrade to upgrade): requests in /usr/local/lib/python3.5/dist-packages\n",
      "Requirement already satisfied (use --upgrade to upgrade): certifi>=2017.4.17 in /usr/local/lib/python3.5/dist-packages (from requests)\n",
      "Requirement already satisfied (use --upgrade to upgrade): chardet<3.1.0,>=3.0.2 in /usr/local/lib/python3.5/dist-packages (from requests)\n",
      "Requirement already satisfied (use --upgrade to upgrade): urllib3<1.25,>=1.21.1 in /usr/local/lib/python3.5/dist-packages (from requests)\n",
      "Requirement already satisfied (use --upgrade to upgrade): idna<2.9,>=2.5 in /usr/local/lib/python3.5/dist-packages (from requests)\n",
      "\u001b[33mYou are using pip version 8.1.1, however version 19.1 is available.\n",
      "You should consider upgrading via the 'pip install --upgrade pip' command.\u001b[0m\n",
      "[setupvars.sh] OpenVINO environment initialized\n",
      "\n",
      "\n",
      "###################################################\n",
      "\n",
      "Downloading Intel models\n",
      "\n",
      "target_precision = FP32\n",
      "\n",
      "vehicle-license-plate-detection-barrier-0106 have been loaded previously, skip loading model step.\n",
      "vehicle-attributes-recognition-barrier-0039 have been loaded previously, skip loading model step.\n",
      "license-plate-recognition-barrier-0001 have been loaded previously, skip loading model step.\n",
      "\n",
      "\n",
      "###################################################\n",
      "\n",
      "Build Inference Engine samples\n",
      "\n",
      "-- Looking for C++ include unistd.h\n",
      "-- Looking for C++ include unistd.h - found\n",
      "-- Looking for C++ include stdint.h\n",
      "-- Looking for C++ include stdint.h - found\n",
      "-- Looking for C++ include sys/types.h\n",
      "-- Looking for C++ include sys/types.h - found\n",
      "-- Looking for C++ include fnmatch.h\n",
      "-- Looking for C++ include fnmatch.h - found\n",
      "-- Looking for C++ include stddef.h\n",
      "-- Looking for C++ include stddef.h - found\n",
      "-- Check size of uint32_t\n",
      "-- Check size of uint32_t - done\n",
      "-- Looking for strtoll\n",
      "-- Looking for strtoll - found\n",
      "-- Found InferenceEngine: /opt/intel/openvino_2019.1.094/deployment_tools/inference_engine/lib/intel64/libinference_engine.so (Required is at least version \"1.6\") \n",
      "-- Performing Test HAVE_CPUID_INFO\n",
      "-- Performing Test HAVE_CPUID_INFO - Success\n",
      "-- Host CPU features:\n",
      "--   3DNOW not supported\n",
      "--   3DNOWEXT not supported\n",
      "--   ABM not supported\n",
      "--   ADX supported\n",
      "--   AES supported\n",
      "--   AVX supported\n",
      "--   AVX2 supported\n",
      "--   AVX512CD not supported\n",
      "--   AVX512F not supported\n",
      "--   AVX512ER not supported\n",
      "--   AVX512PF not supported\n",
      "--   BMI1 supported\n",
      "--   BMI2 supported\n",
      "--   CLFSH supported\n",
      "--   CMPXCHG16B supported\n",
      "--   CX8 supported\n",
      "--   ERMS supported\n",
      "--   F16C supported\n",
      "--   FMA supported\n",
      "--   FSGSBASE supported\n",
      "--   FXSR supported\n",
      "--   HLE supported\n",
      "--   INVPCID supported\n",
      "--   LAHF supported\n",
      "--   LZCNT supported\n",
      "--   MMX supported\n",
      "--   MMXEXT not supported\n",
      "--   MONITOR supported\n",
      "--   MOVBE supported\n",
      "--   MSR supported\n",
      "--   OSXSAVE supported\n",
      "--   PCLMULQDQ supported\n",
      "--   POPCNT supported\n",
      "--   PREFETCHWT1 not supported\n",
      "--   RDRAND supported\n",
      "--   RDSEED supported\n",
      "--   RDTSCP supported\n",
      "--   RTM supported\n",
      "--   SEP supported\n",
      "--   SHA not supported\n",
      "--   SSE supported\n",
      "--   SSE2 supported\n",
      "--   SSE3 supported\n",
      "--   SSE4.1 supported\n",
      "--   SSE4.2 supported\n",
      "--   SSE4a not supported\n",
      "--   SSSE3 supported\n",
      "--   SYSCALL supported\n",
      "--   TBM not supported\n",
      "--   XOP not supported\n",
      "--   XSAVE supported\n",
      "-- TBB include: /opt/intel/openvino_2019.1.094/deployment_tools/inference_engine/external/tbb/include\n",
      "-- TBB Release lib: /opt/intel/openvino_2019.1.094/deployment_tools/inference_engine/external/tbb/lib/libtbb.so\n",
      "-- TBB Debug lib: /opt/intel/openvino_2019.1.094/deployment_tools/inference_engine/external/tbb/lib/libtbb_debug.so\n",
      "-- Looking for pthread.h\n",
      "-- Looking for pthread.h - found\n",
      "-- Looking for pthread_create\n",
      "-- Looking for pthread_create - not found\n",
      "-- Looking for pthread_create in pthreads\n",
      "-- Looking for pthread_create in pthreads - not found\n",
      "-- Looking for pthread_create in pthread\n",
      "-- Looking for pthread_create in pthread - found\n",
      "-- Found Threads: TRUE  \n",
      "-- Configuring done\n",
      "-- Generating done\n",
      "-- Build files have been written to: /home/intel/inference_engine_samples_build\n",
      "[ 11%] Built target gflags_nothreads_static\n",
      "[ 96%] Built target ie_cpu_extension\n",
      "[100%] Built target security_barrier_camera_demo\n",
      "\n",
      "\n",
      "###################################################\n",
      "\n",
      "Run Inference Engine security_barrier_camera demo\n",
      "\n",
      "Run ./security_barrier_camera_demo -d CPU -d_va CPU -d_lpr CPU -i /opt/intel/openvino/deployment_tools/demo/car_1.bmp -m /home/intel/openvino_models/ir/FP32/Security/object_detection/barrier/0106/dldt/vehicle-license-plate-detection-barrier-0106.xml -m_va /home/intel/openvino_models/ir/FP32/Security/object_attributes/vehicle/resnet10_update_1/dldt/vehicle-attributes-recognition-barrier-0039.xml -m_lpr /home/intel/openvino_models/ir/FP32/Security/optical_character_recognition/license_plate/dldt/license-plate-recognition-barrier-0001.xml \n",
      "\n",
      "[ INFO ] InferenceEngine: \n",
      "\tAPI version ............ 1.6\n",
      "\tBuild .................. custom_releases/2019/R1_c9b66a26e4d65bb986bb740e73f58c6e9e84c7c2\n",
      "[ INFO ] Parsing input parameters\n",
      "[ INFO ] Capturing video streams from the video files or loading images\n",
      "[ INFO ] Files were added: 1\n",
      "[ INFO ]     /opt/intel/openvino/deployment_tools/demo/car_1.bmp\n",
      "[ INFO ] Number of input image files: 1\n",
      "[ INFO ] Number of input video files: 0\n",
      "[ INFO ] Number of input channels: 1\n",
      "[ INFO ] Display resolution: 1920x1080\n",
      "[ INFO ] Loading plugin CPU\n",
      "\n",
      "\tAPI version ............ 1.6\n",
      "\tBuild .................. 22443\n",
      "\tDescription ....... MKLDNNPlugin\n",
      "[ INFO ] Loading network files for VehicleDetection\n",
      "[ INFO ] Batch size is forced to  1\n",
      "[ INFO ] Checking Vehicle Detection inputs\n",
      "[ INFO ] Checking Vehicle Detection outputs\n",
      "[ INFO ] Loading Vehicle Detection model to the CPU plugin\n"
     ]
    },
    {
     "name": "stdout",
     "output_type": "stream",
     "text": [
      "[ INFO ] Loading network files for VehicleAttribs\n",
      "[ INFO ] Batch size is forced to 1 for Vehicle Attribs\n",
      "[ INFO ] Checking VehicleAttribs inputs\n",
      "[ INFO ] Checking Vehicle Attribs outputs\n",
      "[ INFO ] Loading Vehicle Attribs model to the CPU plugin\n",
      "[ INFO ] Loading network files for Licence Plate Recognition (LPR)\n",
      "[ INFO ] Batch size is forced to  1 for LPR Network\n",
      "[ INFO ] Checking LPR Network inputs\n",
      "[ INFO ] Checking LPR Network outputs\n",
      "[ INFO ] Loading LPR model to the CPU plugin\n",
      "[ INFO ] Start inference \n",
      "To close the application, press 'CTRL+C' or any key with focus on the output window\n",
      "\n",
      "Average inference time: 13.8757 ms (72.0685 fps)\n",
      "\n",
      "Average vehicle detection time: 5.34246 ms (187.18 fps)\n",
      "\n",
      "Average vehicle attribs time: 1.66583 ms (600.302 fps)\n",
      "\n",
      "Average lpr time: 6.74014 ms (148.365 fps)\n",
      "\n",
      "Total execution time: 1544.07\n",
      "\n",
      "[ INFO ] Execution successful\n",
      "\n",
      "\n",
      "###################################################\n",
      "\n",
      "Demo completed successfully.\n",
      "\n"
     ]
    }
   ],
   "source": [
    "!echo \"intel123\" | sudo -S /opt/intel/openvino/deployment_tools/demo/demo_security_barrier_camera.sh "
   ]
  },
  {
   "cell_type": "markdown",
   "metadata": {},
   "source": [
    "<div style=\"font-size: 19px\">\n",
    "\n",
    "Above script will run the security barrier camera example with Intel® pretrained models. Open the script to see the models used."
   ]
  },
  {
   "cell_type": "code",
   "execution_count": 4,
   "metadata": {},
   "outputs": [],
   "source": [
    "!gedit /opt/intel/openvino/deployment_tools/demo/demo_security_barrier_camera.sh"
   ]
  },
  {
   "cell_type": "markdown",
   "metadata": {},
   "source": [
    "<div style=\"font-size: 19px\">\n",
    "\n",
    "At the bottom of the script, you can see that tt uses three pretrained models, vehicle-license-plate-detection-barrier, vehicle-attributes-recognition-barrier and license-plate-recognition-barrier to detect the car, it's make, color and license plate attributes. These pretrained models are optimized for particular tasks which yield better performance over generic object detection models. You can find more of such pretrained models under /opt/intel/openvino/deployment_tools/intel_models.\n",
    "\n",
    "Following car image will appear the at end of the above command execution. It shows the detection of the car, number plate, its attributes and color.\n",
    "\n",
    "<img src=\"car_1.png\">\n",
    "\n",
    "\n",
    "### Part 2. Use multiple models on different hardware\n",
    "\n",
    "#### 0. Initialize the environmental variables"
   ]
  },
  {
   "cell_type": "code",
   "execution_count": 5,
   "metadata": {},
   "outputs": [
    {
     "name": "stdout",
     "output_type": "stream",
     "text": [
      "[setupvars.sh] OpenVINO environment initialized\r\n"
     ]
    }
   ],
   "source": [
    "!/opt/intel/openvino/bin/setupvars.sh"
   ]
  },
  {
   "cell_type": "markdown",
   "metadata": {},
   "source": [
    "<div style=\"font-size: 19px\">\n",
    "\n",
    "#### 1. Let's look at the face detection sample from the Intel® Distribution of OpenVINO™ toolkit package"
   ]
  },
  {
   "cell_type": "markdown",
   "metadata": {},
   "source": [
    "<div style=\"font-size: 19px\">\n",
    "\n",
    "#### 2. Check if a web cam is connected"
   ]
  },
  {
   "cell_type": "code",
   "execution_count": 6,
   "metadata": {},
   "outputs": [
    {
     "name": "stdout",
     "output_type": "stream",
     "text": [
      "/dev/video0\r\n"
     ]
    }
   ],
   "source": [
    "! ls /dev/video*"
   ]
  },
  {
   "cell_type": "markdown",
   "metadata": {},
   "source": [
    "<div style=\"font-size: 19px\">\n",
    "\n",
    "#### 3. Run the face demo, face detection only, on the Intel® Movidius™ Neural Compute stick"
   ]
  },
  {
   "cell_type": "code",
   "execution_count": null,
   "metadata": {},
   "outputs": [],
   "source": [
    "! python3 interactive_face_detection.py -i cam -m /opt/intel/openvino/deployment_tools/tools/model_downloader/Retail/object_detection/face/sqnet1.0modif-ssd/0004/dldt/face-detection-retail-0004-fp16.xml -d MYRIAD"
   ]
  },
  {
   "cell_type": "markdown",
   "metadata": {},
   "source": [
    "<div style=\"font-size: 19px\">\n",
    "    \n",
    "#### 4. Now we add (to the face detection) also an age and gender detection, running on the CPU"
   ]
  },
  {
   "cell_type": "code",
   "execution_count": null,
   "metadata": {},
   "outputs": [],
   "source": [
    "! python3 interactive_face_detection.py -i cam -m /opt/intel/openvino/deployment_tools/tools/model_downloader/Retail/object_detection/face/sqnet1.0modif-ssd/0004/dldt/face-detection-retail-0004-fp16.xml -d MYRIAD -m_ag /opt/intel/openvino/deployment_tools/tools/model_downloader/Retail/object_attributes/age_gender/dldt/age-gender-recognition-retail-0013.xml -l $HOME/inference_engine_samples_build/intel64/Release/lib/libcpu_extension.so -d_ag CPU "
   ]
  },
  {
   "cell_type": "markdown",
   "metadata": {},
   "source": [
    "<div style=\"font-size: 19px\">\n",
    "\n",
    "#### 5. Now let’s add head position detection running on GPU."
   ]
  },
  {
   "cell_type": "code",
   "execution_count": null,
   "metadata": {},
   "outputs": [],
   "source": [
    "! python3 interactive_face_detection.py -i cam -m /opt/intel/openvino/deployment_tools/tools/model_downloader/Retail/object_detection/face/sqnet1.0modif-ssd/0004/dldt/face-detection-retail-0004-fp16.xml -d MYRIAD -m_ag /opt/intel/openvino/deployment_tools/tools/model_downloader/Retail/object_attributes/age_gender/dldt/age-gender-recognition-retail-0013.xml -d_ag CPU -d_ag CPU -m_hp /opt/intel/openvino/deployment_tools/tools/model_downloader/Transportation/object_attributes/headpose/vanilla_cnn/dldt/head-pose-estimation-adas-0001-fp16.xml -d_hp GPU"
   ]
  },
  {
   "cell_type": "markdown",
   "metadata": {},
   "source": [
    "<div style=\"font-size: 19px\">\n",
    "\n",
    "#### 6. Now we’ll add an emotion detector, running on the GPU"
   ]
  },
  {
   "cell_type": "code",
   "execution_count": null,
   "metadata": {},
   "outputs": [],
   "source": [
    "! python3 interactive_face_detection.py -i cam -m /opt/intel/openvino/deployment_tools/tools/model_downloader/Retail/object_detection/face/sqnet1.0modif-ssd/0004/dldt/face-detection-retail-0004-fp16.xml -d MYRIAD -m_ag /opt/intel/openvino/deployment_tools/tools/model_downloader/Retail/object_attributes/age_gender/dldt/age-gender-recognition-retail-0013.xml -d_ag CPU -d_ag CPU -m_hp /opt/intel/openvino/deployment_tools/tools/model_downloader/Transportation/object_attributes/headpose/vanilla_cnn/dldt/head-pose-estimation-adas-0001-fp16.xml -d_hp GPU -d_hp GPU -m_em /opt/intel/openvino/deployment_tools/tools/model_downloader/Retail/object_attributes/emotions_recognition/0003/dldt/emotions-recognition-retail-0003-fp16.xml -d_em GPU"
   ]
  },
  {
   "cell_type": "markdown",
   "metadata": {},
   "source": [
    "<div style=\"font-size: 19px\">\n",
    "\n",
    "#### 7. Now let's add facial landmarks detector, running on the GPU"
   ]
  },
  {
   "cell_type": "code",
   "execution_count": null,
   "metadata": {},
   "outputs": [],
   "source": [
    "! python3 interactive_face_detection.py -i cam -m /opt/intel/openvino/deployment_tools/tools/model_downloader/Retail/object_detection/face/sqnet1.0modif-ssd/0004/dldt/face-detection-retail-0004-fp16.xml -d MYRIAD -m_ag /opt/intel/openvino/deployment_tools/tools/model_downloader/Retail/object_attributes/age_gender/dldt/age-gender-recognition-retail-0013.xml -d_ag CPU -d_ag CPU -m_hp /opt/intel/openvino/deployment_tools/tools/model_downloader/Transportation/object_attributes/headpose/vanilla_cnn/dldt/head-pose-estimation-adas-0001-fp16.xml -d_hp GPU -d_hp GPU -m_em /opt/intel/openvino/deployment_tools/tools/model_downloader/Retail/object_attributes/emotions_recognition/0003/dldt/emotions-recognition-retail-0003-fp16.xml -d_em GPU -m_lm  /opt/intel/openvino/deployment_tools/tools/model_downloader/Transportation/object_attributes/facial_landmarks/custom-35-facial-landmarks/dldt/facial-landmarks-35-adas-0002.xml -l $HOME/inference_engine_samples_build/intel64/Release/lib/libcpu_extension.so -d_lm CPU"
   ]
  },
  {
   "cell_type": "code",
   "execution_count": null,
   "metadata": {},
   "outputs": [],
   "source": []
  }
 ],
 "metadata": {
  "kernelspec": {
   "display_name": "Python 3",
   "language": "python",
   "name": "python3"
  },
  "language_info": {
   "codemirror_mode": {
    "name": "ipython",
    "version": 3
   },
   "file_extension": ".py",
   "mimetype": "text/x-python",
   "name": "python",
   "nbconvert_exporter": "python",
   "pygments_lexer": "ipython3",
   "version": "3.5.2"
  }
 },
 "nbformat": 4,
 "nbformat_minor": 2
}
